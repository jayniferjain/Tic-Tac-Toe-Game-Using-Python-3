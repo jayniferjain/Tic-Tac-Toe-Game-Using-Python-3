{
 "cells": [
  {
   "cell_type": "code",
   "execution_count": null,
   "metadata": {},
   "outputs": [],
   "source": [
    "# STEP 1\n",
    "\n",
    "from IPython.display import clear_output\n",
    "def display_board(board):\n",
    "    clear_output()\n",
    "    print(\"   |   |   \")\n",
    "    print(\" \"+board[7]+\" | \"+board[8]+\" | \"+board[9]+\" \")\n",
    "    print(\"   |   |   \")\n",
    "    print(\"-\"*11)\n",
    "    print(\"   |   |   \")\n",
    "    print(\" \"+board[4]+\" | \"+board[5]+\" | \"+board[6]+\" \")\n",
    "    print(\"   |   |   \")\n",
    "    print(\"-\"*11)\n",
    "    print(\"   |   |   \")\n",
    "    print(\" \"+board[1]+\" | \"+board[2]+\" | \"+board[3]+\" \")\n",
    "    print(\"   |   |   \")"
   ]
  },
  {
   "cell_type": "code",
   "execution_count": null,
   "metadata": {},
   "outputs": [],
   "source": [
    "test_board = ['#','X','O','X','O','X','O','X','O','X']\n",
    "display_board(test_board)"
   ]
  },
  {
   "cell_type": "code",
   "execution_count": null,
   "metadata": {},
   "outputs": [],
   "source": [
    "# STEP 2\n",
    "\n",
    "def player_input():\n",
    "    \n",
    "    \"\"\"\n",
    "    OUTPUT = (Player 1 marker, Player 2 marker)\n",
    "    \"\"\"\n",
    "    \n",
    "    marker = ''\n",
    "    \n",
    "    # Keep asking player 1 to choose X or O\n",
    "    while marker != 'X' and marker != 'O':\n",
    "        marker = input(\"Player 1, choose X or O: \").upper()\n",
    "    \n",
    "    # Assign player 2, the oppposite marker\n",
    "    player_1 = marker\n",
    "    if player_1 == 'X':\n",
    "        player_2 = 'O'\n",
    "    else:\n",
    "        player_2 = 'X'\n",
    "    return (player_1,player_2)"
   ]
  },
  {
   "cell_type": "code",
   "execution_count": null,
   "metadata": {},
   "outputs": [],
   "source": [
    "player1_marker, player2_marker = player_input()"
   ]
  },
  {
   "cell_type": "code",
   "execution_count": null,
   "metadata": {},
   "outputs": [],
   "source": [
    "player1_marker"
   ]
  },
  {
   "cell_type": "code",
   "execution_count": null,
   "metadata": {},
   "outputs": [],
   "source": [
    "# STEP 3\n",
    "\n",
    "def place_marker(board,marker,position):\n",
    "    board[position] = marker"
   ]
  },
  {
   "cell_type": "code",
   "execution_count": null,
   "metadata": {},
   "outputs": [],
   "source": [
    "test_board"
   ]
  },
  {
   "cell_type": "code",
   "execution_count": null,
   "metadata": {},
   "outputs": [],
   "source": [
    "place_marker(test_board,'$',8)\n",
    "display_board(test_board)"
   ]
  },
  {
   "cell_type": "code",
   "execution_count": null,
   "metadata": {},
   "outputs": [],
   "source": [
    "#STEP 4\n",
    "\n",
    "def win_check(board,mark):\n",
    "    \n",
    "    \"\"\"\n",
    "    WIN TIC TAC TOE?\n",
    "    \n",
    "    ALL ROWS, and check to see if they all share the same marker?\n",
    "    \n",
    "    ALL COLUMNS, check to see if marker matches.\n",
    "    \n",
    "    2 DAIGONALS, check to  see matches\n",
    "    \"\"\"\n",
    "    \n",
    "    return ((board[7]==board[8]==board[9]==mark) or (board[4]==board[5]==board[6]==mark) or (board[1]==board[2]==board[3]==mark) or #horizontal\n",
    "            (board[7]==board[4]==board[1]==mark) or (board[8]==board[5]==board[2]==mark) or (board[9]==board[6]==board[3]==mark) or #vertical\n",
    "            (board[7]==board[5]==board[3]==mark) or (board[9]==board[5]==board[1]==mark)) #daigonal"
   ]
  },
  {
   "cell_type": "code",
   "execution_count": null,
   "metadata": {},
   "outputs": [],
   "source": [
    "display_board(test_board)\n",
    "win_check(test_board,'O')"
   ]
  },
  {
   "cell_type": "code",
   "execution_count": null,
   "metadata": {},
   "outputs": [],
   "source": [
    "#STEP 5\n",
    "\n",
    "import random\n",
    "\n",
    "def choose_first():\n",
    "    \n",
    "    flip = random.randint(0,1)\n",
    "    if flip == 0:\n",
    "        return \"player 1\"\n",
    "    else:\n",
    "        return \"player 2\""
   ]
  },
  {
   "cell_type": "code",
   "execution_count": null,
   "metadata": {},
   "outputs": [],
   "source": [
    "#STEP 6\n",
    "\n",
    "def space_check(board,position):\n",
    "    \n",
    "    return board[position] == ' '"
   ]
  },
  {
   "cell_type": "code",
   "execution_count": null,
   "metadata": {},
   "outputs": [],
   "source": [
    "#STEP 7\n",
    "\n",
    "def full_board_check(board):\n",
    "    \n",
    "    for i in range(1,10):\n",
    "        if space_check(board,i):\n",
    "            return False\n",
    "    \n",
    "    #BOARD IS FULL IS WE RETURN TRUE\n",
    "    return True"
   ]
  },
  {
   "cell_type": "code",
   "execution_count": null,
   "metadata": {},
   "outputs": [],
   "source": [
    "#STEP 8\n",
    "\n",
    "def player_choice(board):\n",
    "    \n",
    "    position = 0\n",
    "    \n",
    "    while position not in [1,2,3,4,5,6,7,8,9] or not space_check(board,position):\n",
    "        position = int(input(\"Choose a position: (1-9) \"))\n",
    "    \n",
    "    return position"
   ]
  },
  {
   "cell_type": "code",
   "execution_count": null,
   "metadata": {},
   "outputs": [],
   "source": [
    "#STEP 9\n",
    "\n",
    "def replay():\n",
    "    \n",
    "    choice = input(\"Play again? Enter Yes or No \")\n",
    "    \n",
    "    return choice == \"Yes\""
   ]
  },
  {
   "cell_type": "code",
   "execution_count": null,
   "metadata": {},
   "outputs": [],
   "source": [
    "#STEP 10"
   ]
  },
  {
   "cell_type": "code",
   "execution_count": null,
   "metadata": {},
   "outputs": [],
   "source": [
    "# WHILE LOOP TO KEEP RUNNING THE GAME\n",
    "\n",
    "print(\"Welcome to TIC TAC TOE\")\n",
    "\n",
    "while True:\n",
    "    \n",
    "    # PLAY THE GAME\n",
    "    \n",
    "    ## SET EVERYTHING UP (BOARD, WHOS FIRST, CHOOSE MARKERS X,O)\n",
    "    the_board = [\" \"]*10\n",
    "    player1_marker,player2_marker = player_input()\n",
    "    \n",
    "    turn = choose_first()\n",
    "    print(turn + \" will go first\")\n",
    "    \n",
    "    play_game = input(\"Ready to play? y or n? \")\n",
    "    \n",
    "    if play_game == 'y':\n",
    "        game_on = True\n",
    "    else:\n",
    "        game_on = False\n",
    "    \n",
    "    ## GAME PLAY\n",
    "    \n",
    "    while game_on:\n",
    "        \n",
    "        if turn == \"Player 1\":\n",
    "        ### PLAYER ONE TURN\n",
    "        \n",
    "            # Show the board\n",
    "            display_board(the_board)\n",
    "            # Choose a position\n",
    "            position = player_choice(the_board)\n",
    "            # Place the marker on the position\n",
    "            place_marker(the_board,player1_marker,position)\n",
    "            \n",
    "            # Check if they won\n",
    "            if win_check(the_board,player1_marker):\n",
    "                display_board(the_board)\n",
    "                print(\"PLAYER 1 HAS WON!!\")\n",
    "                game_on = False\n",
    "            else:\n",
    "            # Or check if there is a tie\n",
    "                if full_board_check(the_board):\n",
    "                    display_board(the_board)\n",
    "                    print(\"TIE GAME!!\")\n",
    "                    game_on = False\n",
    "                else:\n",
    "                # No tie and no win? The next player's turn\n",
    "                    turn = \"Player 2\"\n",
    "            \n",
    "            \n",
    "        \n",
    "        else:\n",
    "        ### PLAYER TWO TURN\n",
    "            \n",
    "            # Show the board\n",
    "            display_board(the_board)\n",
    "            # Choose a position\n",
    "            position = player_choice(the_board)\n",
    "            # Place the marker on the position\n",
    "            place_marker(the_board,player2_marker,position)\n",
    "            \n",
    "            # Check if they won\n",
    "            if win_check(the_board,player2_marker):\n",
    "                display_board(the_board)\n",
    "                print(\"PLAYER 2 HAS WON!!\")\n",
    "                game_on = False\n",
    "            else:\n",
    "            # Or check if there is a tie\n",
    "                if full_board_check(the_board):\n",
    "                    display_board(the_board)\n",
    "                    print(\"TIE GAME!!\")\n",
    "                    game_on = False\n",
    "                else:\n",
    "                # No tie and no win? The next player's turn\n",
    "                    turn = \"Player 1\"\n",
    "            \n",
    "            \n",
    "            \n",
    "    if not replay():\n",
    "        break\n",
    "    # BREAK OUT OF THE WHILE LOOP ON replay()"
   ]
  },
  {
   "cell_type": "code",
   "execution_count": null,
   "metadata": {},
   "outputs": [],
   "source": []
  }
 ],
 "metadata": {
  "kernelspec": {
   "display_name": "Python 3",
   "language": "python",
   "name": "python3"
  },
  "language_info": {
   "codemirror_mode": {
    "name": "ipython",
    "version": 3
   },
   "file_extension": ".py",
   "mimetype": "text/x-python",
   "name": "python",
   "nbconvert_exporter": "python",
   "pygments_lexer": "ipython3",
   "version": "3.7.0"
  }
 },
 "nbformat": 4,
 "nbformat_minor": 4
}
